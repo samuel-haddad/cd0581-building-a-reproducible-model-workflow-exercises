{
 "cells": [
  {
   "cell_type": "code",
   "execution_count": 1,
   "id": "211ea46a",
   "metadata": {},
   "outputs": [],
   "source": [
    "import wandb\n",
    "import pandas as pd"
   ]
  },
  {
   "cell_type": "code",
   "execution_count": 2,
   "id": "d8916ade",
   "metadata": {},
   "outputs": [
    {
     "data": {
      "application/vnd.jupyter.widget-view+json": {
       "model_id": "33626a40f2734069a8183d746af72d50",
       "version_major": 2,
       "version_minor": 0
      },
      "text/plain": [
       "VBox(children=(Label(value='Waiting for wandb.init()...\\r'), FloatProgress(value=0.011288888888884685, max=1.0…"
      ]
     },
     "metadata": {},
     "output_type": "display_data"
    },
    {
     "data": {
      "text/html": [
       "wandb version 0.16.4 is available!  To upgrade, please run:\n",
       " $ pip install wandb --upgrade"
      ],
      "text/plain": [
       "<IPython.core.display.HTML object>"
      ]
     },
     "metadata": {},
     "output_type": "display_data"
    },
    {
     "data": {
      "text/html": [
       "Tracking run with wandb version 0.16.3"
      ],
      "text/plain": [
       "<IPython.core.display.HTML object>"
      ]
     },
     "metadata": {},
     "output_type": "display_data"
    },
    {
     "data": {
      "text/html": [
       "Run data is saved locally in <code>d:\\OneDrive\\Desktop\\samuel-haddad\\cd0581-building-a-reproducible-model-workflow-exercises\\lesson-2-data-exploration-and-preparation\\exercises\\exercise_5\\starter\\wandb\\run-20240305_221613-vmzqtcwy</code>"
      ],
      "text/plain": [
       "<IPython.core.display.HTML object>"
      ]
     },
     "metadata": {},
     "output_type": "display_data"
    },
    {
     "data": {
      "text/html": [
       "Syncing run <strong><a href='https://wandb.ai/samuel-haddad/exercise_5/runs/vmzqtcwy' target=\"_blank\">dandy-wildflower-1</a></strong> to <a href='https://wandb.ai/samuel-haddad/exercise_5' target=\"_blank\">Weights & Biases</a> (<a href='https://wandb.me/run' target=\"_blank\">docs</a>)<br/>"
      ],
      "text/plain": [
       "<IPython.core.display.HTML object>"
      ]
     },
     "metadata": {},
     "output_type": "display_data"
    },
    {
     "data": {
      "text/html": [
       " View project at <a href='https://wandb.ai/samuel-haddad/exercise_5' target=\"_blank\">https://wandb.ai/samuel-haddad/exercise_5</a>"
      ],
      "text/plain": [
       "<IPython.core.display.HTML object>"
      ]
     },
     "metadata": {},
     "output_type": "display_data"
    },
    {
     "data": {
      "text/html": [
       " View run at <a href='https://wandb.ai/samuel-haddad/exercise_5/runs/vmzqtcwy' target=\"_blank\">https://wandb.ai/samuel-haddad/exercise_5/runs/vmzqtcwy</a>"
      ],
      "text/plain": [
       "<IPython.core.display.HTML object>"
      ]
     },
     "metadata": {},
     "output_type": "display_data"
    }
   ],
   "source": [
    "run = wandb.init(\n",
    "    project=\"exercise_5\", \n",
    "    save_code=True\n",
    ")"
   ]
  },
  {
   "cell_type": "code",
   "execution_count": 3,
   "id": "bfe05b35",
   "metadata": {},
   "outputs": [],
   "source": [
    "artifact = run.use_artifact(\"exercise_4/genres_mod.parquet:latest\")"
   ]
  },
  {
   "cell_type": "code",
   "execution_count": 4,
   "id": "ca2c9ffc",
   "metadata": {},
   "outputs": [],
   "source": [
    "df = pd.read_parquet(artifact.file())"
   ]
  },
  {
   "cell_type": "code",
   "execution_count": 5,
   "id": "07f7861a",
   "metadata": {},
   "outputs": [],
   "source": [
    "df.drop_duplicates().reset_index(drop=True)\n",
    "df['title'].fillna(value='', inplace=True)\n",
    "df['song_name'].fillna(value='', inplace=True)\n",
    "df['text_feature'] = df['title'] + ' ' + df['song_name']"
   ]
  },
  {
   "cell_type": "code",
   "execution_count": 6,
   "id": "d4bf7920",
   "metadata": {},
   "outputs": [],
   "source": [
    "artifact.add_file(df, name=\"preprocessed_data.csv\")"
   ]
  },
  {
   "cell_type": "code",
   "execution_count": 7,
   "id": "61f90504",
   "metadata": {},
   "outputs": [],
   "source": [
    "df.to_csv(\"preprocessed_data.csv\")\n",
    "\n",
    "artifact.add_file(\"preprocessed_data.csv\")"
   ]
  },
  {
   "cell_type": "code",
   "execution_count": 8,
   "id": "e85a4798",
   "metadata": {},
   "outputs": [
    {
     "name": "stdout",
     "output_type": "stream",
     "text": [
      "ArtifactManifestEntry(path='preprocessed_data.csv', digest='MYyybWAcKWUKVOqWhuvhNQ==', size=6924450, local_path='C:\\\\Users\\\\Adm\\\\AppData\\\\Local\\\\wandb\\\\wandb\\\\artifacts\\\\staging\\\\tmpuio0hh10')"
     ]
    }
   ],
   "source": [
    "df.to_csv(\"preprocessed_data.csv\")\n",
    "\n",
    "artifact = wandb.Artifact(\n",
    "        name=\"preprocessed_data\",\n",
    "        type=\"preprocessed_data\",\n",
    "        description=\"preprocessed data from exercise 5\",\n",
    "    )\n",
    "\n",
    "artifact.add_file(\"preprocessed_data.csv\")"
   ]
  },
  {
   "cell_type": "code",
   "execution_count": 9,
   "id": "17147042",
   "metadata": {},
   "outputs": [],
   "source": [
    "run.finish()"
   ]
  }
 ],
 "metadata": {
  "kernelspec": {
   "display_name": "Python 3",
   "language": "python",
   "name": "python3"
  },
  "language_info": {
   "codemirror_mode": {
    "name": "ipython",
    "version": 3
   },
   "file_extension": ".py",
   "mimetype": "text/x-python",
   "name": "python",
   "nbconvert_exporter": "python",
   "pygments_lexer": "ipython3",
   "version": "3.8.18"
  }
 },
 "nbformat": 4,
 "nbformat_minor": 5
}
